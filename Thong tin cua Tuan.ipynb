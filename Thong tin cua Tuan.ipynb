{
 "cells": [
  {
   "cell_type": "code",
   "execution_count": 1,
   "id": "7fbe97a9",
   "metadata": {},
   "outputs": [
    {
     "name": "stdout",
     "output_type": "stream",
     "text": [
      "Họ và tên: Nguyễn Công Tuân\n"
     ]
    }
   ],
   "source": [
    "print ('Họ và tên: Nguyễn Công Tuân')"
   ]
  },
  {
   "cell_type": "code",
   "execution_count": 2,
   "id": "0e23796b",
   "metadata": {},
   "outputs": [
    {
     "name": "stdout",
     "output_type": "stream",
     "text": [
      "Năm sinh: 1988\n"
     ]
    }
   ],
   "source": [
    "print ('Năm sinh: 1988')"
   ]
  },
  {
   "cell_type": "code",
   "execution_count": 3,
   "id": "839f2ec1",
   "metadata": {},
   "outputs": [
    {
     "name": "stdout",
     "output_type": "stream",
     "text": [
      "Học viên lớp Python căn bản\n"
     ]
    }
   ],
   "source": [
    "print ('Học viên lớp Python căn bản')"
   ]
  },
  {
   "cell_type": "code",
   "execution_count": null,
   "id": "1cfa4506",
   "metadata": {},
   "outputs": [],
   "source": []
  }
 ],
 "metadata": {
  "kernelspec": {
   "display_name": "Python 3 (ipykernel)",
   "language": "python",
   "name": "python3"
  },
  "language_info": {
   "codemirror_mode": {
    "name": "ipython",
    "version": 3
   },
   "file_extension": ".py",
   "mimetype": "text/x-python",
   "name": "python",
   "nbconvert_exporter": "python",
   "pygments_lexer": "ipython3",
   "version": "3.9.7"
  }
 },
 "nbformat": 4,
 "nbformat_minor": 5
}
